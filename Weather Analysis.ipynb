{
 "cells": [
  {
   "cell_type": "markdown",
   "id": "7a76cbbc-548e-42be-93f8-252f4a0f1d39",
   "metadata": {},
   "source": [
    "# NOAA Weather Station Data Analysis Recreation\n",
    "By: Aaron Padilla\n",
    "Date Start: 5/15/2025\n",
    "Date Completed: ___\n",
    "\n",
    "This is conceptually based on a project I did while at Northrop Grumman Co. \n",
    "\n",
    "Link to Database: https://www.ncei.noaa.gov/data/global-summary-of-the-day/access/\n",
    "^ This is apparently a legacy application, since replaced by a series of API's and AWS hosting services.\n",
    "That said, for the sake of familiarity, I'll engineer the data as I did back then, then load it into the notebook.\n",
    "\n",
    "---\n",
    "\n",
    "Goal: \n",
    "\n",
    "Overall Goal: Provide a proof of concept by gathering critical weather observations contributing to feasibility studies for various clientelle (aviation/aerospace, agriculture, climate research, etc.)\n",
    "\n",
    "Sample Cities/Weather Stations:\n",
    "\n",
    "* New York\n",
    "* Los Angeles\n",
    "* Tokyo\n",
    "* Beijing\n",
    "* Paris\n",
    "* London\n",
    "\n",
    "\n",
    "Objectives:\n",
    "\n",
    "[ ] Display timeseries weather trends at international weather stations (<b><u>line plots</u></b>)\n",
    "\n",
    "[ ] Take <b><u>Histograms</u></b> of various series parameters within the dataset\n",
    "\n",
    "    [ ] Wind Speed\n",
    "\n",
    "    [ ] Gust\n",
    "\n",
    "    [ ] Precipitation\n",
    "\n",
    "    etc\n",
    "\n",
    "--- Further Objectives Listed Below ---\n"
   ]
  },
  {
   "cell_type": "code",
   "execution_count": 2,
   "id": "46122c79-6b69-4fbe-a4ae-92fd045db3da",
   "metadata": {},
   "outputs": [],
   "source": [
    "# Initial Library Imports\n",
    "\n",
    "import pandas as pd\n",
    "import matplotlib.pyplot as plt\n",
    "import seaborn as sb\n",
    "import numpy as np"
   ]
  },
  {
   "cell_type": "code",
   "execution_count": null,
   "id": "869dcba4-e867-4ca8-9b99-17996e7d902e",
   "metadata": {},
   "outputs": [],
   "source": [
    "# Data Intake & Initialization:\n",
    "\n",
    "\n"
   ]
  },
  {
   "cell_type": "code",
   "execution_count": null,
   "id": "39cc0248-5e55-4130-ad34-05e53ce0fa9f",
   "metadata": {},
   "outputs": [],
   "source": []
  },
  {
   "cell_type": "code",
   "execution_count": null,
   "id": "636521ed-10f8-4e65-a404-6e4a0a34fbd3",
   "metadata": {},
   "outputs": [],
   "source": []
  },
  {
   "cell_type": "code",
   "execution_count": null,
   "id": "695ead08-ed7b-4b69-8a2c-66669e9ba697",
   "metadata": {},
   "outputs": [],
   "source": []
  },
  {
   "cell_type": "code",
   "execution_count": null,
   "id": "333f8351-7c54-4920-9e29-b054cbcbdd50",
   "metadata": {},
   "outputs": [],
   "source": []
  }
 ],
 "metadata": {
  "kernelspec": {
   "display_name": "Python 3 (ipykernel)",
   "language": "python",
   "name": "python3"
  },
  "language_info": {
   "codemirror_mode": {
    "name": "ipython",
    "version": 3
   },
   "file_extension": ".py",
   "mimetype": "text/x-python",
   "name": "python",
   "nbconvert_exporter": "python",
   "pygments_lexer": "ipython3",
   "version": "3.12.7"
  }
 },
 "nbformat": 4,
 "nbformat_minor": 5
}
